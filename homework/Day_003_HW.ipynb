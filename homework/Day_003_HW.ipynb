{
 "cells": [
  {
   "cell_type": "markdown",
   "metadata": {},
   "source": [
    "哪些會是感染者？美國AI企業十天上線新冠肺炎分析助手\n",
    "作者：游海濤\n",
    "https://www.leiphone.com/news/202003/57XtWKjnl19UkiSx.html\n",
    "\n",
    "1. 專案的目標？ (要解決什麼問題）\n",
    "希望美國各地的醫療機構更快速、更有效地識別患者中的新型冠状病毒感染者，從而提供更合適的檢測方法、即時的隔離護理和更好的效果。\n",
    "\n",
    "2. 使用的技術是？ (只需知道名稱即可，例如：使用 CNN 卷積神經網路做影像分類)\n",
    "在醫療護理服務商Persivia的Soliton AI引擎中添加新冠肺癌監控模塊（為Persivia公司CareSpace平台的核心组成部分），可以處理不同來源獲取的结構化和非结構化的EHR（電子健康紀錄），並從中找到可疑的新冠肺炎數據。\n",
    "醫療人员可以在Persivia公司的CareSpace平台，直接搜索所有被標記警报的新冠肺炎疑似感染者，並通過警報級別和症狀對其進行分類過濾。\n",
    "\n",
    "3. 資料來源？\n",
    "訓練數據来自多個疑似新型冠狀肺炎病毒感染者"
   ]
  }
 ],
 "metadata": {
  "kernelspec": {
   "display_name": "Python 3",
   "language": "python",
   "name": "python3"
  },
  "language_info": {
   "codemirror_mode": {
    "name": "ipython",
    "version": 3
   },
   "file_extension": ".py",
   "mimetype": "text/x-python",
   "name": "python",
   "nbconvert_exporter": "python",
   "pygments_lexer": "ipython3",
   "version": "3.6.10"
  }
 },
 "nbformat": 4,
 "nbformat_minor": 4
}
